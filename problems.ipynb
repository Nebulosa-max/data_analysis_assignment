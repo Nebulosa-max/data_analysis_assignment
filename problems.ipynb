{
  "nbformat": 4,
  "nbformat_minor": 0,
  "metadata": {
    "colab": {
      "provenance": [],
      "authorship_tag": "ABX9TyN5wEu5VAM13chwZ7TqVpAe",
      "include_colab_link": true
    },
    "kernelspec": {
      "name": "python3",
      "display_name": "Python 3"
    },
    "language_info": {
      "name": "python"
    }
  },
  "cells": [
    {
      "cell_type": "markdown",
      "metadata": {
        "id": "view-in-github",
        "colab_type": "text"
      },
      "source": [
        "<a href=\"https://colab.research.google.com/github/Nebulosa-max/data_analysis_assignment/blob/main/problems.ipynb\" target=\"_parent\"><img src=\"https://colab.research.google.com/assets/colab-badge.svg\" alt=\"Open In Colab\"/></a>"
      ]
    },
    {
      "cell_type": "code",
      "execution_count": 3,
      "metadata": {
        "colab": {
          "base_uri": "https://localhost:8080/"
        },
        "id": "t4vu55VzfM55",
        "outputId": "a775f5fb-4019-4352-fbf5-9092636c96f7"
      },
      "outputs": [
        {
          "output_type": "stream",
          "name": "stdout",
          "text": [
            "Shape of dataset: (178, 14)\n",
            "\n",
            "First 3 rows:\n",
            "    alcohol  malic_acid   ash  alcalinity_of_ash  magnesium  total_phenols  \\\n",
            "0    14.23        1.71  2.43               15.6      127.0           2.80   \n",
            "1    13.20        1.78  2.14               11.2      100.0           2.65   \n",
            "2    13.16        2.36  2.67               18.6      101.0           2.80   \n",
            "\n",
            "   flavanoids  nonflavanoid_phenols  proanthocyanins  color_intensity   hue  \\\n",
            "0        3.06                  0.28             2.29             5.64  1.04   \n",
            "1        2.76                  0.26             1.28             4.38  1.05   \n",
            "2        3.24                  0.30             2.81             5.68  1.03   \n",
            "\n",
            "   od280/od315_of_diluted_wines  proline  target  \n",
            "0                          3.92   1065.0       0  \n",
            "1                          3.40   1050.0       0  \n",
            "2                          3.17   1185.0       0  \n",
            "\n",
            "Last 3 rows:\n",
            "      alcohol  malic_acid   ash  alcalinity_of_ash  magnesium  total_phenols  \\\n",
            "175    13.27        4.28  2.26               20.0      120.0           1.59   \n",
            "176    13.17        2.59  2.37               20.0      120.0           1.65   \n",
            "177    14.13        4.10  2.74               24.5       96.0           2.05   \n",
            "\n",
            "     flavanoids  nonflavanoid_phenols  proanthocyanins  color_intensity   hue  \\\n",
            "175        0.69                  0.43             1.35             10.2  0.59   \n",
            "176        0.68                  0.53             1.46              9.3  0.60   \n",
            "177        0.76                  0.56             1.35              9.2  0.61   \n",
            "\n",
            "     od280/od315_of_diluted_wines  proline  target  \n",
            "175                          1.56    835.0       2  \n",
            "176                          1.62    840.0       2  \n",
            "177                          1.60    560.0       2  \n",
            "\n",
            "Feature names:\n",
            " ['alcohol', 'malic_acid', 'ash', 'alcalinity_of_ash', 'magnesium', 'total_phenols', 'flavanoids', 'nonflavanoid_phenols', 'proanthocyanins', 'color_intensity', 'hue', 'od280/od315_of_diluted_wines', 'proline']\n",
            "\n",
            "Target names:\n",
            " ['class_0' 'class_1' 'class_2']\n"
          ]
        }
      ],
      "source": [
        "import pandas as pd\n",
        "import numpy as np\n",
        "from sklearn.datasets import load_wine\n",
        "\n",
        "wine = load_wine()\n",
        "df = pd.DataFrame(wine.data, columns=wine.feature_names)\n",
        "df['target'] = wine.target\n",
        "df['target'] = wine.target\n",
        "\n",
        "print(\"Shape of dataset:\", df.shape)\n",
        "print(\"\\nFirst 3 rows:\\n\", df.head(3))\n",
        "print(\"\\nLast 3 rows:\\n\", df.tail(3))\n",
        "print(\"\\nFeature names:\\n\", wine.feature_names)\n",
        "print(\"\\nTarget names:\\n\", wine.target_names)"
      ]
    },
    {
      "cell_type": "code",
      "source": [],
      "metadata": {
        "id": "EoLokwQmgujA"
      },
      "execution_count": null,
      "outputs": []
    }
  ]
}